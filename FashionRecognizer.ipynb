{
 "cells": [
  {
   "cell_type": "code",
   "execution_count": 2,
   "metadata": {},
   "outputs": [
    {
     "data": {
      "text/plain": [
       "'1.13.1'"
      ]
     },
     "execution_count": 2,
     "metadata": {},
     "output_type": "execute_result"
    }
   ],
   "source": [
    "import tensorflow as tf\n",
    "import matplotlib.pyplot as plt\n",
    "from tensorflow.keras.datasets import fashion_mnist\n",
    "tf.__version__"
   ]
  },
  {
   "cell_type": "code",
   "execution_count": 3,
   "metadata": {},
   "outputs": [
    {
     "name": "stdout",
     "output_type": "stream",
     "text": [
      "Downloading data from https://storage.googleapis.com/tensorflow/tf-keras-datasets/train-labels-idx1-ubyte.gz\n",
      "32768/29515 [=================================] - 0s 4us/step\n",
      "Downloading data from https://storage.googleapis.com/tensorflow/tf-keras-datasets/train-images-idx3-ubyte.gz\n",
      "26427392/26421880 [==============================] - 4s 0us/step\n",
      "Downloading data from https://storage.googleapis.com/tensorflow/tf-keras-datasets/t10k-labels-idx1-ubyte.gz\n",
      "8192/5148 [===============================================] - 0s 1us/step\n",
      "Downloading data from https://storage.googleapis.com/tensorflow/tf-keras-datasets/t10k-images-idx3-ubyte.gz\n",
      "4423680/4422102 [==============================] - 1s 0us/step\n"
     ]
    }
   ],
   "source": [
    "(train_x, train_labels), (test_x, test_labels) = fashion_mnist.load_data()"
   ]
  },
  {
   "cell_type": "code",
   "execution_count": 4,
   "metadata": {},
   "outputs": [
    {
     "data": {
      "text/plain": [
       "((60000, 28, 28), (10000,))"
      ]
     },
     "execution_count": 4,
     "metadata": {},
     "output_type": "execute_result"
    }
   ],
   "source": [
    "train_x.shape,test_labels.shape"
   ]
  },
  {
   "cell_type": "code",
   "execution_count": 5,
   "metadata": {},
   "outputs": [
    {
     "data": {
      "image/png": "[encoded data removed]",
      "text/plain": [
       "<Figure size 432x288 with 4 Axes>"
      ]
     },
     "metadata": {
      "needs_background": "light"
     },
     "output_type": "display_data"
    }
   ],
   "source": [
    "plt.subplot(221)\n",
    "plt.imshow(train_x[0], cmap=plt.get_cmap('gray'))\n",
    "plt.subplot(222)\n",
    "plt.imshow(train_x[1], cmap=plt.get_cmap('gray'))\n",
    "plt.subplot(223)\n",
    "plt.imshow(train_x[2], cmap=plt.get_cmap('gray'))\n",
    "plt.subplot(224)\n",
    "plt.imshow(train_x[3], cmap=plt.get_cmap('gray'))\n",
    "plt.show()"
   ]
  },
  {
   "cell_type": "code",
   "execution_count": 6,
   "metadata": {},
   "outputs": [
    {
     "data": {
      "text/plain": [
       "array([[  0,   0,   0,   0,   0,   1,   0,   0,   0,   0,  41, 188, 103,\n",
       "         54,  48,  43,  87, 168, 133,  16,   0,   0,   0,   0,   0,   0,\n",
       "          0,   0],\n",
       "       [  0,   0,   0,   1,   0,   0,   0,  49, 136, 219, 216, 228, 236,\n",
       "        255, 255, 255, 255, 217, 215, 254, 231, 160,  45,   0,   0,   0,\n",
       "          0,   0],\n",
       "       [  0,   0,   0,   0,   0,  14, 176, 222, 224, 212, 203, 198, 196,\n",
       "        200, 215, 204, 202, 201, 201, 201, 209, 218, 224, 164,   0,   0,\n",
       "          0,   0],\n",
       "       [  0,   0,   0,   0,   0, 188, 219, 200, 198, 202, 198, 199, 199,\n",
       "        201, 196, 198, 198, 200, 200, 200, 200, 201, 200, 225,  41,   0,\n",
       "          0,   0],\n",
       "       [  0,   0,   0,   0,  51, 219, 199, 203, 203, 212, 238, 248, 250,\n",
       "        245, 249, 246, 247, 252, 248, 235, 207, 203, 203, 222, 140,   0,\n",
       "          0,   0],\n",
       "       [  0,   0,   0,   0, 116, 226, 206, 204, 207, 204, 101,  75,  47,\n",
       "         73,  48,  50,  45,  51,  63, 113, 222, 202, 206, 220, 224,   0,\n",
       "          0,   0],\n",
       "       [  0,   0,   0,   0, 200, 222, 209, 203, 215, 200,   0,  70,  98,\n",
       "          0, 103,  59,  68,  71,  49,   0, 219, 206, 214, 210, 250,  38,\n",
       "          0,   0],\n",
       "       [  0,   0,   0,   0, 247, 218, 212, 210, 215, 214,   0, 254, 243,\n",
       "        139, 255, 174, 251, 255, 205,   0, 215, 217, 214, 208, 220,  95,\n",
       "          0,   0],\n",
       "       [  0,   0,   0,  45, 226, 214, 214, 215, 224, 205,   0,  42,  35,\n",
       "         60,  16,  17,  12,  13,  70,   0, 189, 216, 212, 206, 212, 156,\n",
       "          0,   0],\n",
       "       [  0,   0,   0, 164, 235, 214, 211, 220, 216, 201,  52,  71,  89,\n",
       "         94,  83,  78,  70,  76,  92,  87, 206, 207, 222, 213, 219, 208,\n",
       "          0,   0],\n",
       "       [  0,   0,   0, 106, 187, 223, 237, 248, 211, 198, 252, 250, 248,\n",
       "        245, 248, 252, 253, 250, 252, 239, 201, 212, 225, 215, 193, 113,\n",
       "          0,   0],\n",
       "       [  0,   0,   0,   0,   0,  17,  54, 159, 222, 193, 208, 192, 197,\n",
       "        200, 200, 200, 200, 201, 203, 195, 210, 165,   0,   0,   0,   0,\n",
       "          0,   0],\n",
       "       [  0,   0,   0,   0,   0,   0,   0,  47, 225, 192, 214, 203, 206,\n",
       "        204, 204, 205, 206, 204, 212, 197, 218, 107,   0,   0,   0,   0,\n",
       "          0,   0],\n",
       "       [  0,   0,   0,   0,   1,   6,   0,  46, 212, 195, 212, 202, 206,\n",
       "        205, 204, 205, 206, 204, 212, 200, 218,  91,   0,   3,   1,   0,\n",
       "          0,   0],\n",
       "       [  0,   0,   0,   0,   0,   1,   0,  11, 197, 199, 205, 202, 205,\n",
       "        206, 204, 205, 207, 204, 205, 205, 218,  77,   0,   5,   0,   0,\n",
       "          0,   0],\n",
       "       [  0,   0,   0,   0,   0,   3,   0,   2, 191, 198, 201, 205, 206,\n",
       "        205, 205, 206, 209, 206, 199, 209, 219,  74,   0,   5,   0,   0,\n",
       "          0,   0],\n",
       "       [  0,   0,   0,   0,   0,   2,   0,   0, 188, 197, 200, 207, 207,\n",
       "        204, 207, 207, 210, 208, 198, 207, 221,  72,   0,   4,   0,   0,\n",
       "          0,   0],\n",
       "       [  0,   0,   0,   0,   0,   2,   0,   0, 215, 198, 203, 206, 208,\n",
       "        205, 207, 207, 210, 208, 200, 202, 222,  75,   0,   4,   0,   0,\n",
       "          0,   0],\n",
       "       [  0,   0,   0,   0,   0,   1,   0,   0, 212, 198, 209, 206, 209,\n",
       "        206, 208, 207, 211, 206, 205, 198, 221,  80,   0,   3,   0,   0,\n",
       "          0,   0],\n",
       "       [  0,   0,   0,   0,   0,   1,   0,   0, 204, 201, 205, 208, 207,\n",
       "        205, 211, 205, 210, 210, 209, 195, 221,  96,   0,   3,   0,   0,\n",
       "          0,   0],\n",
       "       [  0,   0,   0,   0,   0,   1,   0,   0, 202, 201, 205, 209, 207,\n",
       "        205, 213, 206, 210, 209, 210, 194, 217, 105,   0,   2,   0,   0,\n",
       "          0,   0],\n",
       "       [  0,   0,   0,   0,   0,   1,   0,   0, 204, 204, 205, 208, 207,\n",
       "        205, 215, 207, 210, 208, 211, 193, 213, 115,   0,   2,   0,   0,\n",
       "          0,   0],\n",
       "       [  0,   0,   0,   0,   0,   0,   0,   0, 204, 207, 207, 208, 206,\n",
       "        206, 215, 210, 210, 207, 212, 195, 210, 118,   0,   2,   0,   0,\n",
       "          0,   0],\n",
       "       [  0,   0,   0,   0,   0,   1,   0,   0, 198, 208, 208, 208, 204,\n",
       "        207, 212, 212, 210, 207, 211, 196, 207, 121,   0,   1,   0,   0,\n",
       "          0,   0],\n",
       "       [  0,   0,   0,   0,   0,   1,   0,   0, 198, 210, 207, 208, 206,\n",
       "        209, 213, 212, 211, 207, 210, 197, 207, 124,   0,   1,   0,   0,\n",
       "          0,   0],\n",
       "       [  0,   0,   0,   0,   0,   0,   0,   0, 172, 210, 203, 201, 199,\n",
       "        204, 207, 205, 204, 201, 205, 197, 206, 127,   0,   0,   0,   0,\n",
       "          0,   0],\n",
       "       [  0,   0,   0,   0,   0,   0,   0,   0, 188, 221, 214, 234, 236,\n",
       "        238, 244, 244, 244, 240, 243, 214, 224, 162,   0,   2,   0,   0,\n",
       "          0,   0],\n",
       "       [  0,   0,   0,   0,   0,   1,   0,   0, 139, 146, 130, 135, 135,\n",
       "        137, 125, 124, 125, 121, 119, 114, 130,  76,   0,   0,   0,   0,\n",
       "          0,   0]], dtype=uint8)"
      ]
     },
     "execution_count": 6,
     "metadata": {},
     "output_type": "execute_result"
    }
   ],
   "source": [
    "train_x[1]"
   ]
  },
  {
   "cell_type": "code",
   "execution_count": 7,
   "metadata": {},
   "outputs": [
    {
     "name": "stdout",
     "output_type": "stream",
     "text": [
      "[[0.         0.         0.         0.         0.         0.\n",
      "  0.         0.         0.         0.         0.         0.\n",
      "  0.         0.         0.         0.         0.         0.\n",
      "  0.         0.         0.         0.         0.         0.\n",
      "  0.         0.         0.         0.        ]\n",
      " [0.         0.         0.         0.         0.         0.\n",
      "  0.         0.         0.         0.         0.         0.\n",
      "  0.         0.         0.         0.         0.         0.\n",
      "  0.         0.         0.         0.         0.         0.\n",
      "  0.         0.         0.         0.        ]\n",
      " [0.         0.         0.         0.         0.         0.\n",
      "  0.         0.         0.         0.         0.         0.\n",
      "  0.         0.         0.         0.         0.         0.\n",
      "  0.         0.         0.         0.         0.         0.\n",
      "  0.         0.         0.         0.        ]\n",
      " [0.         0.         0.         0.         0.         0.\n",
      "  0.         0.         0.         0.         0.         0.\n",
      "  0.00135942 0.         0.         0.0135775  0.07675477 0.\n",
      "  0.         0.00108359 0.00452712 0.         0.         0.\n",
      "  0.         0.00112628 0.00124281 0.        ]\n",
      " [0.         0.         0.         0.         0.         0.\n",
      "  0.         0.         0.         0.         0.         0.\n",
      "  0.00407827 0.         0.0393841  0.14204153 0.13353227 0.06706289\n",
      "  0.05944322 0.         0.         0.         0.00114334 0.00349231\n",
      "  0.00461146 0.         0.         0.01550248]\n",
      " [0.         0.         0.         0.         0.         0.\n",
      "  0.         0.         0.         0.         0.         0.\n",
      "  0.00815655 0.         0.11158829 0.2130623  0.18505259 0.14494239\n",
      "  0.15851525 0.13328144 0.02603093 0.         0.         0.\n",
      "  0.         0.01351531 0.01242807 0.        ]\n",
      " [0.         0.         0.         0.         0.         0.\n",
      "  0.         0.         0.         0.         0.         0.\n",
      "  0.         0.         0.16957044 0.24648383 0.21764709 0.19253541\n",
      "  0.11778563 0.16903988 0.18221649 0.12429049 0.07317407 0.02677434\n",
      "  0.08877055 0.14641589 0.08948208 0.07751239]\n",
      " [0.         0.         0.         0.         0.         0.\n",
      "  0.         0.         0.         0.         0.         0.00148028\n",
      "  0.         0.08043127 0.22645859 0.23290633 0.22921287 0.23363847\n",
      "  0.23777287 0.176625   0.14373599 0.13797385 0.13948807 0.16995886\n",
      "  0.16255387 0.0991123  0.21376275 0.34105453]\n",
      " [0.         0.         0.         0.         0.         0.\n",
      "  0.         0.         0.         0.00158012 0.00154801 0.00148028\n",
      "  0.         0.23313412 0.25380866 0.24230614 0.2449844  0.24770005\n",
      "  0.24547847 0.24164034 0.24333258 0.24287959 0.18750855 0.14784092\n",
      "  0.14180231 0.22075012 0.28460274 0.        ]\n",
      " [0.         0.         0.         0.         0.         0.\n",
      "  0.         0.         0.         0.         0.         0.\n",
      "  0.         0.21331772 0.24615064 0.22559537 0.23447005 0.24661839\n",
      "  0.25868808 0.2459747  0.2535186  0.25314211 0.25610924 0.25726649\n",
      "  0.25708875 0.27593765 0.21500556 0.        ]\n",
      " [0.         0.         0.         0.         0.         0.\n",
      "  0.         0.         0.         0.         0.         0.\n",
      "  0.         0.22497443 0.24943265 0.22768422 0.2239557  0.2141686\n",
      "  0.19814406 0.22972086 0.23767368 0.24059903 0.24353245 0.25959469\n",
      "  0.25363015 0.27368509 0.25104696 0.        ]\n",
      " [0.         0.         0.         0.         0.         0.\n",
      "  0.         0.         0.         0.00158012 0.00464404 0.\n",
      "  0.0163131  0.25528186 0.24068063 0.22141768 0.22921287 0.20767864\n",
      "  0.18603525 0.2459747  0.23541013 0.24858099 0.25610924 0.24678957\n",
      "  0.26054734 0.22187639 0.2597466  0.26870963]\n",
      " [0.         0.         0.         0.         0.         0.\n",
      "  0.         0.         0.         0.         0.00928807 0.\n",
      "  0.13458306 0.28442363 0.24286863 0.22977306 0.22921287 0.2195769\n",
      "  0.21795846 0.23947316 0.24333258 0.24287959 0.25382255 0.25610239\n",
      "  0.28245176 0.13402686 0.20754872 0.2893796 ]\n",
      " [0.         0.         0.         0.         0.         0.\n",
      "  0.         0.         0.         0.00632047 0.         0.\n",
      "  0.07476837 0.27509826 0.24943265 0.24021729 0.23972722 0.2595983\n",
      "  0.25538568 0.23080445 0.24672792 0.25428239 0.26754269 0.25261008\n",
      "  0.25017156 0.23539171 0.11433822 0.        ]\n",
      " [0.         0.         0.00196864 0.00743066 0.01073107 0.01210602\n",
      "  0.00340005 0.         0.         0.         0.         0.\n",
      "  0.3221837  0.26344156 0.23739862 0.23290633 0.23341861 0.23688345\n",
      "  0.24437767 0.23947316 0.24446436 0.25428239 0.26182596 0.25028188\n",
      "  0.25132443 0.28720041 0.09569612 0.        ]\n",
      " [0.         0.00677527 0.         0.         0.         0.\n",
      "  0.         0.         0.         0.09796732 0.2244617  0.30197776\n",
      "  0.30994887 0.24129382 0.23302261 0.23081749 0.22921287 0.2249852\n",
      "  0.23226887 0.2362224  0.2535186  0.25428239 0.25039252 0.25028188\n",
      "  0.25824161 0.27481137 0.19760627 0.        ]\n",
      " [0.         0.         0.         0.         0.0321932  0.07609496\n",
      "  0.13940217 0.17644206 0.29930777 0.36026691 0.34056258 0.32862285\n",
      "  0.2949952  0.26344156 0.21880057 0.21410672 0.22185283 0.24878171\n",
      "  0.24657927 0.25355982 0.19919318 0.2143726  0.28583621 0.28869724\n",
      "  0.26861739 0.26805371 0.26720344 0.        ]\n",
      " [0.         0.12873017 0.36813591 0.38639423 0.40062647 0.38220425\n",
      "  0.38080592 0.34299018 0.32306235 0.33814525 0.32198644 0.30937917\n",
      "  0.27188498 0.18534163 0.2680307  0.20157364 0.21659565 0.24121009\n",
      "  0.28070408 0.27631519 0.25012326 0.26682547 0.25267921 0.24562547\n",
      "  0.25363015 0.26129606 0.30573045 0.        ]\n",
      " [0.02264812 0.45620167 0.44885021 0.41611686 0.39526094 0.36490994\n",
      "  0.35870558 0.35288412 0.32464599 0.32392419 0.3173424  0.32566229\n",
      "  0.32626197 0.09325365 0.16410043 0.26632787 0.24077866 0.23904677\n",
      "  0.20695046 0.1668727  0.21616988 0.23945875 0.23324234 0.24329727\n",
      "  0.25593588 0.25679095 0.27963151 0.        ]\n",
      " [0.73983865 0.52621282 0.38979097 0.39010956 0.39704945 0.39603969\n",
      "  0.38930605 0.38586395 0.39432611 0.34762596 0.30031428 0.31826087\n",
      "  0.2949952  0.28092662 0.07111019 0.07624288 0.11145213 0.12655417\n",
      "  0.18493445 0.23730599 0.25012326 0.24516015 0.24810583 0.25959469\n",
      "  0.25708875 0.25228585 0.28460274 0.14985729]\n",
      " [0.56620305 0.46071852 0.41735195 0.37896357 0.34518263 0.35453335\n",
      "  0.35870558 0.37102303 0.34206602 0.29232183 0.30495831 0.30493832\n",
      "  0.26916613 0.24828784 0.26256069 0.20366249 0.23867579 0.2650066\n",
      "  0.26309128 0.24164034 0.24672792 0.24173931 0.23895907 0.25843059\n",
      "  0.25363015 0.24890702 0.28584554 0.34622202]\n",
      " [0.36236995 0.45846009 0.36026135 0.36038692 0.38095285 0.3406979\n",
      "  0.31450489 0.31330833 0.30722596 0.30338266 0.31269837 0.31678059\n",
      "  0.29771405 0.2576132  0.24068063 0.24648383 0.23657292 0.23363847\n",
      "  0.21905926 0.22321933 0.21051098 0.20639064 0.20237203 0.2002255\n",
      "  0.20866844 0.2308866  0.25601818 0.59426168]\n",
      " [0.         0.27552774 0.43113243 0.35852926 0.32014347 0.2957327\n",
      "  0.31110484 0.32320228 0.32306235 0.33182478 0.3297265  0.30641861\n",
      "  0.28683865 0.24479083 0.21880057 0.20470691 0.20397843 0.20659698\n",
      "  0.21465606 0.2069655  0.22409233 0.21893371 0.20122869 0.18159987\n",
      "  0.19252834 0.19935087 0.26098941 0.47540935]\n",
      " [0.         0.         0.14567945 0.3510986  0.37916434 0.33032132\n",
      "  0.29750463 0.28362649 0.27713682 0.28600136 0.28638217 0.27829323\n",
      "  0.2569313  0.21914607 0.21114255 0.20679576 0.21449278 0.22606686\n",
      "  0.23116807 0.22755369 0.23880546 0.2143726  0.21494883 0.22583574\n",
      "  0.22134995 0.24327564 0.21127714 0.        ]\n",
      " [0.01509875 0.         0.         0.         0.11804173 0.34588619\n",
      "  0.37740587 0.39081092 0.37848972 0.38238856 0.38081089 0.3597088\n",
      "  0.33169967 0.2576132  0.24068063 0.20157364 0.20082412 0.19361707\n",
      "  0.20034566 0.19721319 0.20485208 0.20068924 0.18979524 0.1955691\n",
      "  0.11413357 0.06532401 0.         0.        ]\n",
      " [0.         0.         0.         0.         0.         0.\n",
      "  0.         0.06595965 0.09660198 0.06952519 0.11145684 0.06069161\n",
      "  0.04757987 0.         0.         0.         0.         0.\n",
      "  0.         0.         0.         0.         0.         0.\n",
      "  0.         0.         0.         0.        ]\n",
      " [0.         0.         0.         0.         0.         0.\n",
      "  0.         0.         0.         0.         0.         0.\n",
      "  0.         0.         0.         0.         0.         0.\n",
      "  0.         0.         0.         0.         0.         0.\n",
      "  0.         0.         0.         0.        ]\n",
      " [0.         0.         0.         0.         0.         0.\n",
      "  0.         0.         0.         0.         0.         0.\n",
      "  0.         0.         0.         0.         0.         0.\n",
      "  0.         0.         0.         0.         0.         0.\n",
      "  0.         0.         0.         0.        ]]\n"
     ]
    },
    {
     "data": {
      "image/png": "[encoded data removed]",
      "text/plain": [
       "<Figure size 432x288 with 1 Axes>"
      ]
     },
     "metadata": {
      "needs_background": "light"
     },
     "output_type": "display_data"
    }
   ],
   "source": [
    "train_x=tf.keras.utils.normalize(train_x, axis=1)\n",
    "test_x=tf.keras.utils.normalize(test_x, axis=1)\n",
    "plt.subplot(221)\n",
    "plt.imshow(train_x[0], cmap=plt.cm.binary)\n",
    "print(train_x[0])"
   ]
  },
  {
   "cell_type": "code",
   "execution_count": 14,
   "metadata": {},
   "outputs": [],
   "source": [
    "\n",
    "model= tf.keras.models.Sequential()\n",
    "#input layer\n",
    "model.add(tf.keras.layers.Flatten())\n",
    "#hidden layer\n",
    "model.add(tf.keras.layers.Dense(125,activation=tf.nn.relu))\n",
    "#model.add(tf.keras.layers.Dense(125,activation=tf.nn.relu))\n",
    "#output layer\n",
    "model.add(tf.keras.layers.Dense(10,activation=tf.nn.softmax))"
   ]
  },
  {
   "cell_type": "code",
   "execution_count": 15,
   "metadata": {},
   "outputs": [
    {
     "name": "stdout",
     "output_type": "stream",
     "text": [
      "Epoch 1/10\n",
      "60000/60000 [==============================] - 7s 115us/sample - loss: 0.5077 - acc: 0.8186\n",
      "Epoch 2/10\n",
      "60000/60000 [==============================] - 7s 109us/sample - loss: 0.3740 - acc: 0.8635\n",
      "Epoch 3/10\n",
      "60000/60000 [==============================] - 6s 108us/sample - loss: 0.3342 - acc: 0.8773\n",
      "Epoch 4/10\n",
      "60000/60000 [==============================] - 6s 108us/sample - loss: 0.3079 - acc: 0.8860\n",
      "Epoch 5/10\n",
      "60000/60000 [==============================] - 7s 109us/sample - loss: 0.2900 - acc: 0.8906\n",
      "Epoch 6/10\n",
      "60000/60000 [==============================] - 7s 113us/sample - loss: 0.2762 - acc: 0.8967\n",
      "Epoch 7/10\n",
      "60000/60000 [==============================] - 7s 121us/sample - loss: 0.2618 - acc: 0.9019\n",
      "Epoch 8/10\n",
      "60000/60000 [==============================] - 8s 127us/sample - loss: 0.2497 - acc: 0.9071\n",
      "Epoch 9/10\n",
      "60000/60000 [==============================] - 7s 118us/sample - loss: 0.2384 - acc: 0.9100\n",
      "Epoch 10/10\n",
      "60000/60000 [==============================] - 7s 121us/sample - loss: 0.2282 - acc: 0.9147\n"
     ]
    },
    {
     "data": {
      "text/plain": [
       "<tensorflow.python.keras.callbacks.History at 0x26ead27c240>"
      ]
     },
     "execution_count": 15,
     "metadata": {},
     "output_type": "execute_result"
    }
   ],
   "source": [
    "#parameters for model\n",
    "model.compile(optimizer='adam',\n",
    "             loss='sparse_categorical_crossentropy',\n",
    "             metrics=['accuracy'])\n",
    "model.fit(train_x, train_labels, epochs=10)"
   ]
  },
  {
   "cell_type": "code",
   "execution_count": 16,
   "metadata": {},
   "outputs": [
    {
     "name": "stdout",
     "output_type": "stream",
     "text": [
      "10000/10000 [==============================] - 1s 64us/sample - loss: 0.3301 - acc: 0.8847\n",
      "0.3301216322720051 0.8847\n"
     ]
    }
   ],
   "source": [
    "val_loss, val_acc= model.evaluate(test_x,test_labels)\n",
    "print(val_loss,val_acc)"
   ]
  },
  {
   "cell_type": "code",
   "execution_count": 17,
   "metadata": {},
   "outputs": [],
   "source": [
    "model.save('fashionrecognizer.model')\n"
   ]
  },
  {
   "cell_type": "code",
   "execution_count": 18,
   "metadata": {},
   "outputs": [
    {
     "name": "stdout",
     "output_type": "stream",
     "text": [
      "WARNING:tensorflow:Sequential models without an `input_shape` passed to the first layer cannot reload their optimizer state. As a result, your model isstarting with a freshly initialized optimizer.\n"
     ]
    }
   ],
   "source": [
    "new_model = tf.keras.models.load_model('fashionrecognizer.model')"
   ]
  },
  {
   "cell_type": "code",
   "execution_count": 19,
   "metadata": {},
   "outputs": [
    {
     "name": "stdout",
     "output_type": "stream",
     "text": [
      "[[2.00407214e-07 2.54209206e-11 2.29845373e-05 ... 7.99788721e-03\n",
      "  3.65366736e-06 9.91841435e-01]\n",
      " [4.44855366e-04 6.10105122e-09 9.96216953e-01 ... 8.18922929e-10\n",
      "  8.10740005e-07 1.87478418e-12]\n",
      " [2.76028277e-05 9.99970078e-01 2.23437837e-08 ... 8.10670975e-11\n",
      "  2.02406625e-09 3.99522185e-13]\n",
      " ...\n",
      " [7.26888888e-04 7.07971193e-09 2.55684630e-04 ... 1.27766242e-07\n",
      "  9.97480333e-01 9.53745156e-12]\n",
      " [1.57671536e-06 9.99912024e-01 1.26643829e-06 ... 1.06051232e-07\n",
      "  5.26135693e-07 3.25233662e-09]\n",
      " [1.19236290e-07 7.40983608e-10 1.00176045e-07 ... 8.13628314e-04\n",
      "  4.28473810e-03 4.81075482e-08]]\n"
     ]
    }
   ],
   "source": [
    "predictions =new_model.predict(test_x)\n",
    "print(predictions)"
   ]
  },
  {
   "cell_type": "code",
   "execution_count": null,
   "metadata": {},
   "outputs": [],
   "source": []
  },
  {
   "cell_type": "code",
   "execution_count": 27,
   "metadata": {
    "collapsed": true
   },
   "outputs": [
    {
     "name": "stdout",
     "output_type": "stream",
     "text": [
      "2\n"
     ]
    }
   ],
   "source": []
  },
  {
   "cell_type": "code",
   "execution_count": null,
   "metadata": {},
   "outputs": [],
   "source": []
  },
  {
   "cell_type": "code",
   "execution_count": 29,
   "metadata": {},
   "outputs": [],
   "source": [
    "class_names = ['T-shirt/top', 'Trouser', 'Pullover', 'Dress', 'Coat',\n",
    "               'Sandal', 'Shirt', 'Sneaker', 'Bag', 'Ankle boot']"
   ]
  },
  {
   "cell_type": "code",
   "execution_count": 30,
   "metadata": {},
   "outputs": [
    {
     "data": {
      "image/png": "[encoded data removed]",
      "text/plain": [
       "<Figure size 720x720 with 25 Axes>"
      ]
     },
     "metadata": {},
     "output_type": "display_data"
    }
   ],
   "source": [
    "plt.figure(figsize=(10,10))\n",
    "for i in range(25):\n",
    "    plt.subplot(5,5,i+1)\n",
    "    plt.xticks([])\n",
    "    plt.yticks([])\n",
    "    plt.grid(False)\n",
    "    plt.imshow(train_x[i], cmap=plt.cm.binary)\n",
    "    plt.xlabel(class_names[train_labels[i]])\n",
    "plt.show()"
   ]
  },
  {
   "cell_type": "code",
   "execution_count": 31,
   "metadata": {},
   "outputs": [
    {
     "name": "stdout",
     "output_type": "stream",
     "text": [
      "2\n"
     ]
    }
   ],
   "source": [
    "import numpy as np\n",
    "print(np.argmax(predictions[1]))"
   ]
  },
  {
   "cell_type": "code",
   "execution_count": 32,
   "metadata": {},
   "outputs": [
    {
     "name": "stdout",
     "output_type": "stream",
     "text": [
      "2\n"
     ]
    }
   ],
   "source": [
    "print(test_labels[1])\n"
   ]
  },
  {
   "cell_type": "code",
   "execution_count": 33,
   "metadata": {},
   "outputs": [
    {
     "data": {
      "image/png": "[encoded data removed]",
      "text/plain": [
       "<Figure size 432x288 with 1 Axes>"
      ]
     },
     "metadata": {
      "needs_background": "light"
     },
     "output_type": "display_data"
    }
   ],
   "source": [
    "plt.imshow(test_x[1])\n",
    "plt.show()"
   ]
  },
  {
   "cell_type": "code",
   "execution_count": 39,
   "metadata": {},
   "outputs": [
    {
     "name": "stdout",
     "output_type": "stream",
     "text": [
      "Predicted as:\n",
      "Pullover\n",
      "Labeled as:\n",
      "Pullover\n"
     ]
    }
   ],
   "source": [
    "def fashion(x):\n",
    "    if(x==0):\n",
    "        print(\"T-shirt/Top\")\n",
    "    elif(x==1):\n",
    "        print(\"Trouser\")\n",
    "    elif(x==2):\n",
    "        print('Pullover')\n",
    "    elif(x==3):\n",
    "        print('Dress')\n",
    "    elif(x==4):\n",
    "        print('Coat')\n",
    "    elif(x==5):\n",
    "        print('Sandal')\n",
    "    elif(x==6):\n",
    "        print('Shirt')\n",
    "    elif(x==7):\n",
    "        print('Sneaker')\n",
    "    elif(x==8):\n",
    "        print('Bag')\n",
    "    elif(x==9):\n",
    "        print('Ankle boot')\n",
    "import numpy as np\n",
    "x=np.argmax(predictions[1])\n",
    "print(\"Predicted as:\")\n",
    "fashion(x)\n",
    "y=(test_labels[1])\n",
    "print(\"Labeled as:\")\n",
    "fashion(y)\n"
   ]
  },
  {
   "cell_type": "code",
   "execution_count": 40,
   "metadata": {},
   "outputs": [
    {
     "data": {
      "image/png": "[encoded data removed]",
      "text/plain": [
       "<Figure size 432x288 with 1 Axes>"
      ]
     },
     "metadata": {
      "needs_background": "light"
     },
     "output_type": "display_data"
    }
   ],
   "source": [
    "plt.imshow(test_x[1])\n",
    "plt.show()"
   ]
  },
  {
   "cell_type": "code",
   "execution_count": null,
   "metadata": {},
   "outputs": [],
   "source": []
  }
 ],
 "metadata": {
  "kernelspec": {
   "display_name": "Python 3",
   "language": "python",
   "name": "python3"
  },
  "language_info": {
   "codemirror_mode": {
    "name": "ipython",
    "version": 3
   },
   "file_extension": ".py",
   "mimetype": "text/x-python",
   "name": "python",
   "nbconvert_exporter": "python",
   "pygments_lexer": "ipython3",
   "version": "3.7.1"
  }
 },
 "nbformat": 4,
 "nbformat_minor": 2
}
